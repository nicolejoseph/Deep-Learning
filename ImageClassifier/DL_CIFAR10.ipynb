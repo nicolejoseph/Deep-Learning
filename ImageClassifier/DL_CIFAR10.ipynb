{
  "cells": [
    {
      "cell_type": "code",
      "execution_count": 1,
      "metadata": {
        "colab": {
          "base_uri": "https://localhost:8080/",
          "height": 35
        },
        "id": "kQsSDISpOmiI",
        "outputId": "7666871a-cd6f-4ef3-a2e7-c58ece496bf2"
      },
      "outputs": [
        {
          "data": {
            "application/vnd.google.colaboratory.intrinsic+json": {
              "type": "string"
            },
            "text/plain": [
              "'\\nNICOLE JOSEPH\\nDeep Learning HW 4\\nClassify CIFAR10\\n'"
            ]
          },
          "execution_count": 1,
          "metadata": {},
          "output_type": "execute_result"
        }
      ],
      "source": [
        "\"\"\"\n",
        "NICOLE JOSEPH\n",
        "Deep Learning HW 4\n",
        "Classify CIFAR10\n",
        "\"\"\""
      ]
    },
    {
      "cell_type": "code",
      "execution_count": 2,
      "metadata": {
        "id": "jkFVAvotROFx"
      },
      "outputs": [],
      "source": [
        "import gzip\n",
        "import pickle\n",
        "import numpy as np\n",
        "import matplotlib.pyplot as plt\n",
        "import tensorflow as tf\n",
        "from tensorflow import Tensor\n",
        "from tensorflow import keras\n",
        "from keras.layers import Conv2D, MaxPooling2D, Add, Flatten, Dropout, ReLU, BatchNormalization, Input, Dense, ZeroPadding2D, AveragePooling2D\n",
        "from keras.models import Model"
      ]
    },
    {
      "cell_type": "code",
      "execution_count": 23,
      "metadata": {
        "colab": {
          "base_uri": "https://localhost:8080/"
        },
        "id": "uj7vWiFNSW0c",
        "outputId": "8bd8a472-188b-4470-8685-0f4e9929b227"
      },
      "outputs": [
        {
          "name": "stdout",
          "output_type": "stream",
          "text": [
            "Mounted at /content/drive\n"
          ]
        }
      ],
      "source": [
        "from google.colab import drive\n",
        "drive.mount('/content/drive', force_remount=True)"
      ]
    },
    {
      "cell_type": "code",
      "execution_count": 4,
      "metadata": {
        "id": "HK-ITpCPVSgj"
      },
      "outputs": [],
      "source": [
        "# python routine to open file and return a dictionary\n",
        "# citation: https://www.cs.toronto.edu/~kriz/cifar.html \n",
        "def unpickle(file_paths):\n",
        "    data = []\n",
        "    labels = []\n",
        "    for i, file_path in enumerate(file_paths):\n",
        "        print(\"processing \" + file_path)\n",
        "        with open(file_path, 'rb') as fo:\n",
        "            dict = pickle.load(fo, encoding='bytes')\n",
        "        # Each data_batch file contains a dictionary with the elements data and labels\n",
        "        # In the dictionary, data is a 10,000x3072 numpy array of uint8s     \n",
        "        data = np.append(data, dict[b'data']).astype(np.uint8)\n",
        "        data = data.reshape(10000*(i+1), 3, 32, 32)\n",
        "        # In the dictionary, labels is a list of 10,000 numbers in the range 0-9\n",
        "        labels = np.append(labels, dict[b'labels']).astype(np.uint8)\n",
        "    data = data.transpose(0,2,3,1)\n",
        "    return data, labels"
      ]
    },
    {
      "cell_type": "code",
      "execution_count": 6,
      "metadata": {
        "colab": {
          "base_uri": "https://localhost:8080/"
        },
        "id": "nmviUvimSW9G",
        "outputId": "0b0556fc-dcf2-49b8-c575-714cde837141"
      },
      "outputs": [
        {
          "name": "stdout",
          "output_type": "stream",
          "text": [
            "processing drive/MyDrive/deep-learning/cifar10/data_batch_1\n",
            "processing drive/MyDrive/deep-learning/cifar10/data_batch_2\n",
            "processing drive/MyDrive/deep-learning/cifar10/data_batch_3\n",
            "processing drive/MyDrive/deep-learning/cifar10/data_batch_4\n",
            "processing drive/MyDrive/deep-learning/cifar10/data_batch_5\n",
            "processing drive/MyDrive/deep-learning/cifar10/test_batch\n"
          ]
        }
      ],
      "source": [
        "training_dataset = [\"drive/MyDrive/deep-learning/cifar10/data_batch_1\", \"drive/MyDrive/deep-learning/cifar10/data_batch_2\", \"drive/MyDrive/deep-learning/cifar10/data_batch_3\",\n",
        "                  \"drive/MyDrive/deep-learning/cifar10/data_batch_4\", \"drive/MyDrive/deep-learning/cifar10/data_batch_5\"]\n",
        "test_dataset = [\"drive/MyDrive/deep-learning/cifar10/test_batch\"]\n",
        "\n",
        "x_train, y_train = unpickle(training_dataset)\n",
        "x_test, y_test = unpickle(test_dataset)"
      ]
    },
    {
      "cell_type": "code",
      "execution_count": 7,
      "metadata": {
        "id": "nf-oN5MNaWDp"
      },
      "outputs": [],
      "source": [
        "# Using Keras Functional API to construct a Residual Neural Network\n",
        "# citation: https://towardsdatascience.com/building-a-resnet-in-keras-e8f1322a49ba "
      ]
    },
    {
      "cell_type": "code",
      "execution_count": 8,
      "metadata": {
        "id": "J5AhZfSgYLnt"
      },
      "outputs": [],
      "source": [
        "# helper function that takes a tensor as input and adds relu and batch normalization to it\n",
        "# citation: https://towardsdatascience.com/building-a-resnet-in-keras-e8f1322a49ba \n",
        "def relu_bn(inputs: Tensor) -> Tensor:\n",
        "    relu = ReLU()(inputs)\n",
        "    bn = BatchNormalization()(relu)\n",
        "    return bn"
      ]
    },
    {
      "cell_type": "code",
      "execution_count": 9,
      "metadata": {
        "id": "S8V_VbBQO08k"
      },
      "outputs": [],
      "source": [
        "# construct a residual block\n",
        "# citation: https://towardsdatascience.com/building-a-resnet-in-keras-e8f1322a49ba \n",
        "def residual_block(x: Tensor, downsample: bool, filters: int, kernel_size: int = 3) -> Tensor:\n",
        "    y = Conv2D(kernel_size=kernel_size,\n",
        "               strides= (1 if not downsample else 2),\n",
        "               filters=filters,\n",
        "               padding=\"same\")(x)\n",
        "    y = relu_bn(y)\n",
        "    y = Conv2D(kernel_size=kernel_size,\n",
        "               strides=1,\n",
        "               filters=filters,\n",
        "               padding=\"same\")(y)\n",
        "\n",
        "    if downsample:\n",
        "        x = Conv2D(kernel_size=1,\n",
        "                   strides=2,\n",
        "                   filters=filters,\n",
        "                   padding=\"same\")(x)\n",
        "    out = Add()([x, y])\n",
        "    out = relu_bn(out)\n",
        "    return out"
      ]
    },
    {
      "cell_type": "code",
      "execution_count": 10,
      "metadata": {
        "id": "4z9SWetUO1HV"
      },
      "outputs": [],
      "source": [
        "# citation: https://towardsdatascience.com/building-a-resnet-in-keras-e8f1322a49ba \n",
        "def create_res_net():\n",
        "    inputs = Input(shape=(32, 32, 3))\n",
        "    num_filters = 64\n",
        "    t = BatchNormalization()(inputs)\n",
        "    t = Conv2D(kernel_size=3,\n",
        "               strides=1,\n",
        "               filters=num_filters,\n",
        "               padding=\"same\")(t)\n",
        "    t = relu_bn(t)\n",
        "    num_blocks_list = [2, 2, 2, 2]\n",
        "    for i in range(len(num_blocks_list)):\n",
        "        num_blocks = num_blocks_list[i]\n",
        "        for j in range(num_blocks):\n",
        "            t = residual_block(t, downsample=(j==0 and i!=0), filters=num_filters)\n",
        "        num_filters *= 2\n",
        "    t = AveragePooling2D(4)(t)\n",
        "    t = Flatten()(t)\n",
        "    outputs = Dense(10, activation='softmax')(t)\n",
        "    \n",
        "    model = Model(inputs, outputs)\n",
        "    model.compile(\n",
        "        optimizer='adam',\n",
        "        loss='sparse_categorical_crossentropy',\n",
        "        metrics=['accuracy']\n",
        "    )\n",
        "    return model"
      ]
    },
    {
      "cell_type": "code",
      "execution_count": 11,
      "metadata": {
        "colab": {
          "base_uri": "https://localhost:8080/"
        },
        "id": "-fSg-kR_O1QI",
        "outputId": "73d3b597-d973-4351-cc7c-012c4c7faac8"
      },
      "outputs": [
        {
          "name": "stdout",
          "output_type": "stream",
          "text": [
            "Model: \"model\"\n",
            "__________________________________________________________________________________________________\n",
            " Layer (type)                   Output Shape         Param #     Connected to                     \n",
            "==================================================================================================\n",
            " input_1 (InputLayer)           [(None, 32, 32, 3)]  0           []                               \n",
            "                                                                                                  \n",
            " batch_normalization (BatchNorm  (None, 32, 32, 3)   12          ['input_1[0][0]']                \n",
            " alization)                                                                                       \n",
            "                                                                                                  \n",
            " conv2d (Conv2D)                (None, 32, 32, 64)   1792        ['batch_normalization[0][0]']    \n",
            "                                                                                                  \n",
            " re_lu (ReLU)                   (None, 32, 32, 64)   0           ['conv2d[0][0]']                 \n",
            "                                                                                                  \n",
            " batch_normalization_1 (BatchNo  (None, 32, 32, 64)  256         ['re_lu[0][0]']                  \n",
            " rmalization)                                                                                     \n",
            "                                                                                                  \n",
            " conv2d_1 (Conv2D)              (None, 32, 32, 64)   36928       ['batch_normalization_1[0][0]']  \n",
            "                                                                                                  \n",
            " re_lu_1 (ReLU)                 (None, 32, 32, 64)   0           ['conv2d_1[0][0]']               \n",
            "                                                                                                  \n",
            " batch_normalization_2 (BatchNo  (None, 32, 32, 64)  256         ['re_lu_1[0][0]']                \n",
            " rmalization)                                                                                     \n",
            "                                                                                                  \n",
            " conv2d_2 (Conv2D)              (None, 32, 32, 64)   36928       ['batch_normalization_2[0][0]']  \n",
            "                                                                                                  \n",
            " add (Add)                      (None, 32, 32, 64)   0           ['batch_normalization_1[0][0]',  \n",
            "                                                                  'conv2d_2[0][0]']               \n",
            "                                                                                                  \n",
            " re_lu_2 (ReLU)                 (None, 32, 32, 64)   0           ['add[0][0]']                    \n",
            "                                                                                                  \n",
            " batch_normalization_3 (BatchNo  (None, 32, 32, 64)  256         ['re_lu_2[0][0]']                \n",
            " rmalization)                                                                                     \n",
            "                                                                                                  \n",
            " conv2d_3 (Conv2D)              (None, 32, 32, 64)   36928       ['batch_normalization_3[0][0]']  \n",
            "                                                                                                  \n",
            " re_lu_3 (ReLU)                 (None, 32, 32, 64)   0           ['conv2d_3[0][0]']               \n",
            "                                                                                                  \n",
            " batch_normalization_4 (BatchNo  (None, 32, 32, 64)  256         ['re_lu_3[0][0]']                \n",
            " rmalization)                                                                                     \n",
            "                                                                                                  \n",
            " conv2d_4 (Conv2D)              (None, 32, 32, 64)   36928       ['batch_normalization_4[0][0]']  \n",
            "                                                                                                  \n",
            " add_1 (Add)                    (None, 32, 32, 64)   0           ['batch_normalization_3[0][0]',  \n",
            "                                                                  'conv2d_4[0][0]']               \n",
            "                                                                                                  \n",
            " re_lu_4 (ReLU)                 (None, 32, 32, 64)   0           ['add_1[0][0]']                  \n",
            "                                                                                                  \n",
            " batch_normalization_5 (BatchNo  (None, 32, 32, 64)  256         ['re_lu_4[0][0]']                \n",
            " rmalization)                                                                                     \n",
            "                                                                                                  \n",
            " conv2d_5 (Conv2D)              (None, 16, 16, 128)  73856       ['batch_normalization_5[0][0]']  \n",
            "                                                                                                  \n",
            " re_lu_5 (ReLU)                 (None, 16, 16, 128)  0           ['conv2d_5[0][0]']               \n",
            "                                                                                                  \n",
            " batch_normalization_6 (BatchNo  (None, 16, 16, 128)  512        ['re_lu_5[0][0]']                \n",
            " rmalization)                                                                                     \n",
            "                                                                                                  \n",
            " conv2d_7 (Conv2D)              (None, 16, 16, 128)  8320        ['batch_normalization_5[0][0]']  \n",
            "                                                                                                  \n",
            " conv2d_6 (Conv2D)              (None, 16, 16, 128)  147584      ['batch_normalization_6[0][0]']  \n",
            "                                                                                                  \n",
            " add_2 (Add)                    (None, 16, 16, 128)  0           ['conv2d_7[0][0]',               \n",
            "                                                                  'conv2d_6[0][0]']               \n",
            "                                                                                                  \n",
            " re_lu_6 (ReLU)                 (None, 16, 16, 128)  0           ['add_2[0][0]']                  \n",
            "                                                                                                  \n",
            " batch_normalization_7 (BatchNo  (None, 16, 16, 128)  512        ['re_lu_6[0][0]']                \n",
            " rmalization)                                                                                     \n",
            "                                                                                                  \n",
            " conv2d_8 (Conv2D)              (None, 16, 16, 128)  147584      ['batch_normalization_7[0][0]']  \n",
            "                                                                                                  \n",
            " re_lu_7 (ReLU)                 (None, 16, 16, 128)  0           ['conv2d_8[0][0]']               \n",
            "                                                                                                  \n",
            " batch_normalization_8 (BatchNo  (None, 16, 16, 128)  512        ['re_lu_7[0][0]']                \n",
            " rmalization)                                                                                     \n",
            "                                                                                                  \n",
            " conv2d_9 (Conv2D)              (None, 16, 16, 128)  147584      ['batch_normalization_8[0][0]']  \n",
            "                                                                                                  \n",
            " add_3 (Add)                    (None, 16, 16, 128)  0           ['batch_normalization_7[0][0]',  \n",
            "                                                                  'conv2d_9[0][0]']               \n",
            "                                                                                                  \n",
            " re_lu_8 (ReLU)                 (None, 16, 16, 128)  0           ['add_3[0][0]']                  \n",
            "                                                                                                  \n",
            " batch_normalization_9 (BatchNo  (None, 16, 16, 128)  512        ['re_lu_8[0][0]']                \n",
            " rmalization)                                                                                     \n",
            "                                                                                                  \n",
            " conv2d_10 (Conv2D)             (None, 8, 8, 256)    295168      ['batch_normalization_9[0][0]']  \n",
            "                                                                                                  \n",
            " re_lu_9 (ReLU)                 (None, 8, 8, 256)    0           ['conv2d_10[0][0]']              \n",
            "                                                                                                  \n",
            " batch_normalization_10 (BatchN  (None, 8, 8, 256)   1024        ['re_lu_9[0][0]']                \n",
            " ormalization)                                                                                    \n",
            "                                                                                                  \n",
            " conv2d_12 (Conv2D)             (None, 8, 8, 256)    33024       ['batch_normalization_9[0][0]']  \n",
            "                                                                                                  \n",
            " conv2d_11 (Conv2D)             (None, 8, 8, 256)    590080      ['batch_normalization_10[0][0]'] \n",
            "                                                                                                  \n",
            " add_4 (Add)                    (None, 8, 8, 256)    0           ['conv2d_12[0][0]',              \n",
            "                                                                  'conv2d_11[0][0]']              \n",
            "                                                                                                  \n",
            " re_lu_10 (ReLU)                (None, 8, 8, 256)    0           ['add_4[0][0]']                  \n",
            "                                                                                                  \n",
            " batch_normalization_11 (BatchN  (None, 8, 8, 256)   1024        ['re_lu_10[0][0]']               \n",
            " ormalization)                                                                                    \n",
            "                                                                                                  \n",
            " conv2d_13 (Conv2D)             (None, 8, 8, 256)    590080      ['batch_normalization_11[0][0]'] \n",
            "                                                                                                  \n",
            " re_lu_11 (ReLU)                (None, 8, 8, 256)    0           ['conv2d_13[0][0]']              \n",
            "                                                                                                  \n",
            " batch_normalization_12 (BatchN  (None, 8, 8, 256)   1024        ['re_lu_11[0][0]']               \n",
            " ormalization)                                                                                    \n",
            "                                                                                                  \n",
            " conv2d_14 (Conv2D)             (None, 8, 8, 256)    590080      ['batch_normalization_12[0][0]'] \n",
            "                                                                                                  \n",
            " add_5 (Add)                    (None, 8, 8, 256)    0           ['batch_normalization_11[0][0]', \n",
            "                                                                  'conv2d_14[0][0]']              \n",
            "                                                                                                  \n",
            " re_lu_12 (ReLU)                (None, 8, 8, 256)    0           ['add_5[0][0]']                  \n",
            "                                                                                                  \n",
            " batch_normalization_13 (BatchN  (None, 8, 8, 256)   1024        ['re_lu_12[0][0]']               \n",
            " ormalization)                                                                                    \n",
            "                                                                                                  \n",
            " conv2d_15 (Conv2D)             (None, 4, 4, 512)    1180160     ['batch_normalization_13[0][0]'] \n",
            "                                                                                                  \n",
            " re_lu_13 (ReLU)                (None, 4, 4, 512)    0           ['conv2d_15[0][0]']              \n",
            "                                                                                                  \n",
            " batch_normalization_14 (BatchN  (None, 4, 4, 512)   2048        ['re_lu_13[0][0]']               \n",
            " ormalization)                                                                                    \n",
            "                                                                                                  \n",
            " conv2d_17 (Conv2D)             (None, 4, 4, 512)    131584      ['batch_normalization_13[0][0]'] \n",
            "                                                                                                  \n",
            " conv2d_16 (Conv2D)             (None, 4, 4, 512)    2359808     ['batch_normalization_14[0][0]'] \n",
            "                                                                                                  \n",
            " add_6 (Add)                    (None, 4, 4, 512)    0           ['conv2d_17[0][0]',              \n",
            "                                                                  'conv2d_16[0][0]']              \n",
            "                                                                                                  \n",
            " re_lu_14 (ReLU)                (None, 4, 4, 512)    0           ['add_6[0][0]']                  \n",
            "                                                                                                  \n",
            " batch_normalization_15 (BatchN  (None, 4, 4, 512)   2048        ['re_lu_14[0][0]']               \n",
            " ormalization)                                                                                    \n",
            "                                                                                                  \n",
            " conv2d_18 (Conv2D)             (None, 4, 4, 512)    2359808     ['batch_normalization_15[0][0]'] \n",
            "                                                                                                  \n",
            " re_lu_15 (ReLU)                (None, 4, 4, 512)    0           ['conv2d_18[0][0]']              \n",
            "                                                                                                  \n",
            " batch_normalization_16 (BatchN  (None, 4, 4, 512)   2048        ['re_lu_15[0][0]']               \n",
            " ormalization)                                                                                    \n",
            "                                                                                                  \n",
            " conv2d_19 (Conv2D)             (None, 4, 4, 512)    2359808     ['batch_normalization_16[0][0]'] \n",
            "                                                                                                  \n",
            " add_7 (Add)                    (None, 4, 4, 512)    0           ['batch_normalization_15[0][0]', \n",
            "                                                                  'conv2d_19[0][0]']              \n",
            "                                                                                                  \n",
            " re_lu_16 (ReLU)                (None, 4, 4, 512)    0           ['add_7[0][0]']                  \n",
            "                                                                                                  \n",
            " batch_normalization_17 (BatchN  (None, 4, 4, 512)   2048        ['re_lu_16[0][0]']               \n",
            " ormalization)                                                                                    \n",
            "                                                                                                  \n",
            " average_pooling2d (AveragePool  (None, 1, 1, 512)   0           ['batch_normalization_17[0][0]'] \n",
            " ing2D)                                                                                           \n",
            "                                                                                                  \n",
            " flatten (Flatten)              (None, 512)          0           ['average_pooling2d[0][0]']      \n",
            "                                                                                                  \n",
            " dense (Dense)                  (None, 10)           5130        ['flatten[0][0]']                \n",
            "                                                                                                  \n",
            "==================================================================================================\n",
            "Total params: 11,184,790\n",
            "Trainable params: 11,176,976\n",
            "Non-trainable params: 7,814\n",
            "__________________________________________________________________________________________________\n"
          ]
        }
      ],
      "source": [
        "model = create_res_net()\n",
        "model.summary()"
      ]
    },
    {
      "cell_type": "code",
      "execution_count": 19,
      "metadata": {
        "colab": {
          "base_uri": "https://localhost:8080/"
        },
        "id": "UujNC1R3O1nN",
        "outputId": "8adf97b1-1f77-454e-df67-c9c24832d87c"
      },
      "outputs": [
        {
          "name": "stdout",
          "output_type": "stream",
          "text": [
            "Epoch 1/15\n",
            "313/313 [==============================] - 36s 116ms/step - loss: 0.0134 - accuracy: 0.9955 - val_loss: 0.9601 - val_accuracy: 0.8400\n",
            "Epoch 2/15\n",
            "313/313 [==============================] - 36s 115ms/step - loss: 0.0097 - accuracy: 0.9966 - val_loss: 1.0043 - val_accuracy: 0.8357\n",
            "Epoch 3/15\n",
            "313/313 [==============================] - 36s 115ms/step - loss: 0.0140 - accuracy: 0.9955 - val_loss: 0.9730 - val_accuracy: 0.8351\n",
            "Epoch 4/15\n",
            "313/313 [==============================] - 36s 115ms/step - loss: 0.0108 - accuracy: 0.9963 - val_loss: 0.9430 - val_accuracy: 0.8437\n",
            "Epoch 5/15\n",
            "313/313 [==============================] - 36s 115ms/step - loss: 0.0084 - accuracy: 0.9974 - val_loss: 0.9720 - val_accuracy: 0.8428\n",
            "Epoch 6/15\n",
            "313/313 [==============================] - 36s 116ms/step - loss: 0.0120 - accuracy: 0.9961 - val_loss: 0.9100 - val_accuracy: 0.8480\n",
            "Epoch 7/15\n",
            "313/313 [==============================] - 36s 115ms/step - loss: 0.0161 - accuracy: 0.9945 - val_loss: 0.9492 - val_accuracy: 0.8432\n",
            "Epoch 8/15\n",
            "313/313 [==============================] - 36s 115ms/step - loss: 0.0121 - accuracy: 0.9959 - val_loss: 0.8844 - val_accuracy: 0.8438\n",
            "Epoch 9/15\n",
            "313/313 [==============================] - 36s 115ms/step - loss: 0.0104 - accuracy: 0.9964 - val_loss: 0.8968 - val_accuracy: 0.8454\n",
            "Epoch 10/15\n",
            "313/313 [==============================] - 36s 114ms/step - loss: 0.0122 - accuracy: 0.9958 - val_loss: 0.8953 - val_accuracy: 0.8501\n",
            "Epoch 11/15\n",
            "313/313 [==============================] - 36s 114ms/step - loss: 0.0063 - accuracy: 0.9978 - val_loss: 0.9796 - val_accuracy: 0.8445\n",
            "Epoch 12/15\n",
            "313/313 [==============================] - 36s 114ms/step - loss: 0.0126 - accuracy: 0.9961 - val_loss: 0.9851 - val_accuracy: 0.8366\n",
            "Epoch 13/15\n",
            "313/313 [==============================] - 36s 115ms/step - loss: 0.0109 - accuracy: 0.9961 - val_loss: 0.9676 - val_accuracy: 0.8452\n",
            "Epoch 14/15\n",
            "313/313 [==============================] - 36s 114ms/step - loss: 0.0101 - accuracy: 0.9968 - val_loss: 1.0418 - val_accuracy: 0.8370\n",
            "Epoch 15/15\n",
            "313/313 [==============================] - 36s 114ms/step - loss: 0.0120 - accuracy: 0.9958 - val_loss: 0.9450 - val_accuracy: 0.8396\n",
            "All done!\n"
          ]
        }
      ],
      "source": [
        "# history = model.fit(x_train, y_train, batch_size=128, epochs=10, verbose=1, validation_split=0.2, shuffle = True, steps_per_epoch=len(x_train) // 128)\n",
        "#history = model.fit(x_train, y_train, steps_per_epoch=len(x_train) // 128, epochs=10, verbose=1, validation_split=0.2, shuffle = True,  validation_steps = len(x_test)//128)\n",
        "history = model.fit(x_train, y_train, batch_size=128, epochs=15, verbose=1, validation_split=0.2, shuffle = True)\n",
        "print (\"All done!\")"
      ]
    },
    {
      "cell_type": "code",
      "execution_count": 20,
      "metadata": {
        "colab": {
          "base_uri": "https://localhost:8080/"
        },
        "id": "iIajtyqQO1yF",
        "outputId": "78624ed7-e050-49d6-9952-784ee71e926d"
      },
      "outputs": [
        {
          "name": "stdout",
          "output_type": "stream",
          "text": [
            "313/313 [==============================] - 4s 12ms/step - loss: 1.0200 - accuracy: 0.8342\n",
            "Test loss: 1.0200449228286743\n",
            "Test accuracy: 0.8342000246047974\n"
          ]
        }
      ],
      "source": [
        "score = model.evaluate(x_test, y_test)\n",
        "print('Test loss:', score[0])\n",
        "print('Test accuracy:', score[1])"
      ]
    }
  ],
  "metadata": {
    "accelerator": "GPU",
    "colab": {
      "provenance": []
    },
    "kernelspec": {
      "display_name": "Python 3",
      "name": "python3"
    },
    "language_info": {
      "name": "python"
    }
  },
  "nbformat": 4,
  "nbformat_minor": 0
}
