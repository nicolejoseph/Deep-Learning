{
  "cells": [
    {
      "cell_type": "code",
      "execution_count": null,
      "metadata": {
        "id": "YAqywM4KzFW2"
      },
      "outputs": [],
      "source": [
        "\"\"\"\n",
        "NICOLE JOSEPH\n",
        "Deep Learning HW 4\n",
        "Classify CIFAR100\n",
        "\"\"\""
      ]
    },
    {
      "cell_type": "code",
      "execution_count": 3,
      "metadata": {
        "id": "moBaTUZs2PHR"
      },
      "outputs": [],
      "source": [
        "import gzip\n",
        "import pickle\n",
        "import numpy as np\n",
        "import matplotlib.pyplot as plt\n",
        "import tensorflow as tf\n",
        "from tensorflow import Tensor\n",
        "from tensorflow import keras\n",
        "from keras.layers import Conv2D, MaxPooling2D, Add, Flatten, Dropout, ReLU, BatchNormalization, Input, Dense, ZeroPadding2D, AveragePooling2D\n",
        "from keras.models import Model\n",
        "from keras.preprocessing.image import ImageDataGenerator"
      ]
    },
    {
      "cell_type": "code",
      "execution_count": null,
      "metadata": {
        "id": "D5nmxCIC2ESC"
      },
      "outputs": [],
      "source": [
        "from google.colab import drive\n",
        "drive.mount('/content/drive', force_remount=True)"
      ]
    },
    {
      "cell_type": "code",
      "execution_count": 5,
      "metadata": {
        "id": "FCHmzWzH2EZv"
      },
      "outputs": [],
      "source": [
        "# Load the data, similar to how I did for cifar10\n",
        "# citation: https://www.cs.toronto.edu/~kriz/cifar.html \n",
        "def unpickle(file_path):\n",
        "    data = []\n",
        "    labels = []\n",
        "    print(\"processing \" + file_path)\n",
        "    with open(file_path, 'rb') as fo:\n",
        "        dict = pickle.load(fo, encoding='bytes')\n",
        "    data = np.append(data, dict[b'data']).astype(np.uint8)\n",
        "    data = data.reshape(int(len(data)/3072), 3, 32, 32)\n",
        "    labels = np.append(labels, dict[b'fine_labels']).astype(np.uint8)\n",
        "    data = data.transpose(0,2,3,1)\n",
        "    return data, labels"
      ]
    },
    {
      "cell_type": "code",
      "execution_count": 6,
      "metadata": {
        "colab": {
          "base_uri": "https://localhost:8080/"
        },
        "id": "2COHDNT82Ehl",
        "outputId": "407b382e-8af4-4c62-95e7-8ab4960c1a70"
      },
      "outputs": [
        {
          "name": "stdout",
          "output_type": "stream",
          "text": [
            "processing drive/MyDrive/deep-learning/cifar100/train\n",
            "processing drive/MyDrive/deep-learning/cifar100/test\n"
          ]
        }
      ],
      "source": [
        "training_dataset = \"drive/MyDrive/deep-learning/cifar100/train\"\n",
        "test_dataset = \"drive/MyDrive/deep-learning/cifar100/test\"\n",
        "\n",
        "x_train, y_train = unpickle(training_dataset)\n",
        "x_test, y_test = unpickle(test_dataset)\n",
        "print(\"All done!\")"
      ]
    },
    {
      "cell_type": "code",
      "execution_count": 7,
      "metadata": {
        "colab": {
          "base_uri": "https://localhost:8080/"
        },
        "id": "0feTBC3EA55z",
        "outputId": "6382c57f-16a6-4c01-96af-106be57fe9d8"
      },
      "outputs": [
        {
          "name": "stdout",
          "output_type": "stream",
          "text": [
            "drive/MyDrive/deep-learning/cifar100/train\n"
          ]
        }
      ],
      "source": [
        "training_dataset = \"drive/MyDrive/deep-learning/cifar100/train\""
      ]
    },
    {
      "cell_type": "code",
      "execution_count": 8,
      "metadata": {
        "id": "aEDpOzn_2Epx"
      },
      "outputs": [],
      "source": [
        "# helper function that takes a tensor as input and adds relu and batch normalization to it\n",
        "# citation: https://towardsdatascience.com/building-a-resnet-in-keras-e8f1322a49ba \n",
        "def relu_bn(inputs: Tensor) -> Tensor:\n",
        "    relu = ReLU()(inputs)\n",
        "    bn = BatchNormalization()(relu)\n",
        "    return bn"
      ]
    },
    {
      "cell_type": "code",
      "execution_count": 9,
      "metadata": {
        "id": "WJe1XRz42Exg"
      },
      "outputs": [],
      "source": [
        "# construct a residual block\n",
        "# citation: https://towardsdatascience.com/building-a-resnet-in-keras-e8f1322a49ba \n",
        "def residual_block(x: Tensor, downsample: bool, filters: int, kernel_size: int = 3) -> Tensor:\n",
        "    y = Conv2D(kernel_size=kernel_size,\n",
        "               strides= (1 if not downsample else 2),\n",
        "               filters=filters,\n",
        "               padding=\"same\")(x)\n",
        "    y = relu_bn(y)\n",
        "    y = Conv2D(kernel_size=kernel_size,\n",
        "               strides=1,\n",
        "               filters=filters,\n",
        "               padding=\"same\")(y)\n",
        "\n",
        "    if downsample:\n",
        "        x = Conv2D(kernel_size=1,\n",
        "                   strides=2,\n",
        "                   filters=filters,\n",
        "                   padding=\"same\")(x)\n",
        "    out = Add()([x, y])\n",
        "    out = relu_bn(out)\n",
        "    return out"
      ]
    },
    {
      "cell_type": "code",
      "execution_count": 10,
      "metadata": {
        "id": "Rc3lkp_T2E4W"
      },
      "outputs": [],
      "source": [
        "# citation: https://towardsdatascience.com/building-a-resnet-in-keras-e8f1322a49ba \n",
        "def create_res_net():\n",
        "    inputs = Input(shape=(32, 32, 3))\n",
        "    num_filters = 64\n",
        "    \n",
        "    t = BatchNormalization()(inputs)\n",
        "    t = Conv2D(kernel_size=3,\n",
        "               strides=1,\n",
        "               filters=num_filters,\n",
        "               padding=\"same\")(t)\n",
        "    t = relu_bn(t)\n",
        "    \n",
        "    num_blocks_list = [2, 2, 2, 2]\n",
        "    for i in range(len(num_blocks_list)):\n",
        "        num_blocks = num_blocks_list[i]\n",
        "        for j in range(num_blocks):\n",
        "            t = residual_block(t, downsample=(j==0 and i!=0), filters=num_filters)\n",
        "        num_filters *= 2\n",
        "    \n",
        "    t = AveragePooling2D(4)(t)\n",
        "    t = Flatten()(t)\n",
        "    outputs = Dense(100, activation='softmax')(t)\n",
        "    \n",
        "    model = Model(inputs, outputs)\n",
        "\n",
        "    model.compile(\n",
        "        optimizer='adam',\n",
        "        loss='sparse_categorical_crossentropy',\n",
        "        metrics=['accuracy']\n",
        "    )\n",
        "\n",
        "    return model"
      ]
    },
    {
      "cell_type": "code",
      "execution_count": 11,
      "metadata": {
        "id": "o_QI7APRFiBD"
      },
      "outputs": [],
      "source": [
        "# https://www.tensorflow.org/api_docs/python/tf/keras/preprocessing/image/ImageDataGenerator\n",
        "# This source has an example of implementing real time data augmentation with the cifar dataset\n",
        "datagen = ImageDataGenerator(featurewise_center=True,          \n",
        "                  featurewise_std_normalization=True, \n",
        "                  rotation_range=20,\n",
        "                  width_shift_range=0.1, \n",
        "                  height_shift_range=0.1,\n",
        "                  shear_range=0.05,\n",
        "                  zoom_range=0.05,\n",
        "                  horizontal_flip=True,\n",
        "                  vertical_flip = False)\n"
      ]
    },
    {
      "cell_type": "code",
      "execution_count": 12,
      "metadata": {
        "id": "1fg4VCBwB7OA"
      },
      "outputs": [],
      "source": [
        "# citation: https://www.tensorflow.org/api_docs/python/tf/keras/preprocessing/image/ImageDataGenerator \n",
        "train_generator = datagen.flow(x_train, y_train, batch_size=128)"
      ]
    },
    {
      "cell_type": "code",
      "execution_count": 13,
      "metadata": {
        "id": "VUt-Bp5bRXVS"
      },
      "outputs": [],
      "source": [
        "# citation: https://www.tensorflow.org/api_docs/python/tf/keras/preprocessing/image/ImageDataGenerator\n",
        "x_valid = x_train[:100*128]\n",
        "y_valid = y_train[:100*128]\n",
        "valid_steps = x_valid.shape[0] // 128\n",
        "validation_generator = datagen.flow(x_valid, y_valid, batch_size=128)"
      ]
    },
    {
      "cell_type": "code",
      "execution_count": 14,
      "metadata": {
        "id": "AOeExoL52FBw"
      },
      "outputs": [],
      "source": [
        "model = create_res_net()\n",
        "#model.summary()"
      ]
    },
    {
      "cell_type": "code",
      "execution_count": 15,
      "metadata": {
        "id": "xQ1gNOKCI1h0"
      },
      "outputs": [],
      "source": [
        "#from keras.callbacks import EarlyStopping\n",
        "#callbacks = [EarlyStopping(monitor='val_loss', patience=1, mode='min', verbose=1)]"
      ]
    },
    {
      "cell_type": "code",
      "execution_count": null,
      "metadata": {
        "id": "LWXZKlKe2FNo"
      },
      "outputs": [],
      "source": [
        "#history = model.fit(train_generator, batch_size=128, epochs=15, verbose=1)\n",
        "\n",
        "history = model.fit_generator(\n",
        "                train_generator, \n",
        "                steps_per_epoch=len(x_train) // 128,\n",
        "                epochs=50,\n",
        "                verbose=1,\n",
        "                validation_data=validation_generator,\n",
        "                validation_freq=1,\n",
        "                validation_steps=valid_steps)\n",
        "print (\"All done!\")"
      ]
    },
    {
      "cell_type": "code",
      "execution_count": null,
      "metadata": {
        "id": "Yw7H1VBo9nx1"
      },
      "outputs": [],
      "source": [
        "score = model.evaluate(x_test, y_test, verbose=2)\n",
        "print('Test loss:', score[0])\n",
        "print('Test accuracy:', score[1])"
      ]
    }
  ],
  "metadata": {
    "accelerator": "GPU",
    "colab": {
      "collapsed_sections": [],
      "provenance": []
    },
    "kernelspec": {
      "display_name": "Python 3",
      "name": "python3"
    },
    "language_info": {
      "name": "python"
    }
  },
  "nbformat": 4,
  "nbformat_minor": 0
}
